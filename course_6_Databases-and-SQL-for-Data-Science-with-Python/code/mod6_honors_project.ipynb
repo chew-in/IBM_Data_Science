{
 "cells": [
  {
   "cell_type": "markdown",
   "metadata": {},
   "source": [
    "# Honors Assignment"
   ]
  },
  {
   "cell_type": "markdown",
   "metadata": {},
   "source": [
    "Exercise 1: Using Joins"
   ]
  },
  {
   "cell_type": "markdown",
   "metadata": {},
   "source": [
    "Write and execute a SQL query to list the school names, community names and average attendance for communities with a hardship index of 98."
   ]
  },
  {
   "cell_type": "code",
   "execution_count": null,
   "metadata": {
    "vscode": {
     "languageId": "sql"
    }
   },
   "outputs": [],
   "source": [
    "SELECT PS.NAME_OF_SCHOOL, PS.COMMUNITY_AREA_NAME, PS.AVERAGE_STUDENT_ATTENDANCE\n",
    "FROM chicago_public_schools PS LEFT JOIN chicago_socioeconomic_data SD\n",
    "ON PS.COMMUNITY_AREA_NUMBER = SD.COMMUNITY_AREA_NUMBER\n",
    "WHERE SD.HARDSHIP_INDEX = 98"
   ]
  },
  {
   "cell_type": "markdown",
   "metadata": {},
   "source": [
    "Write and execute a SQL query to list all crimes that took place at a school. Include case number, crime type and community name."
   ]
  },
  {
   "cell_type": "code",
   "execution_count": null,
   "metadata": {
    "vscode": {
     "languageId": "sql"
    }
   },
   "outputs": [],
   "source": [
    "SELECT C.CASE_NUMBER, C.PRIMARY_TYPE, S.COMMUNITY_AREA_NAME\n",
    "FROM chicago_crime C LEFT JOIN chicago_socioeconomic_data S\n",
    "ON C.COMMUNITY_AREA_NUMBER = S.COMMUNITY_AREA_NUMBER\n",
    "WHERE C.LOCATION_DESCRIPTION LIKE '%SCHOOL%'"
   ]
  },
  {
   "cell_type": "markdown",
   "metadata": {},
   "source": [
    "Exercise 2: Creating a View"
   ]
  },
  {
   "cell_type": "code",
   "execution_count": null,
   "metadata": {
    "vscode": {
     "languageId": "sql"
    }
   },
   "outputs": [],
   "source": [
    "CREATE OR REPLACE VIEW SCHOOL_VIEW AS\n",
    "SELECT NAME_OF_SCHOOL School_Name, Safety_Icon Safety_Rating, Family_Involvement_Icon Family_Rating, Environment_Icon Environment_Rating, Instruction_Icon Instruction_Rating, Leaders_Icon Leaders_Rating, Teachers_Icon Teachers_Rating\n",
    "FROM chicago_public_schools;\n",
    "\n",
    "SELECT * FROM SCHOOL_VIEW;\n",
    "\n",
    "SELECT School_Name, Leaders_Rating FROM SCHOOL_VIEW;"
   ]
  },
  {
   "cell_type": "markdown",
   "metadata": {},
   "source": [
    "Exercise 3: Creating a Stored Procedure"
   ]
  },
  {
   "cell_type": "markdown",
   "metadata": {},
   "source": [
    "Write the structure of a query to create or replace a stored procedure called UPDATE_LEADERS_SCORE that takes a in_School_ID parameter as an integer and a in_Leader_Score parameter as an integer."
   ]
  },
  {
   "cell_type": "markdown",
   "metadata": {},
   "source": [
    "Inside your stored procedure, write a SQL statement to update the Leaders_Score field in the CHICAGO_PUBLIC_SCHOOLS table for the school identified by in_School_ID to the value in the in_Leader_Score parameter.\n"
   ]
  },
  {
   "cell_type": "markdown",
   "metadata": {},
   "source": [
    "Inside your stored procedure, write a SQL IF statement to update the Leaders_Icon field in the CHICAGO_PUBLIC_SCHOOLS table for the school identified by in_School_ID using the following information."
   ]
  },
  {
   "cell_type": "code",
   "execution_count": null,
   "metadata": {
    "vscode": {
     "languageId": "sql"
    }
   },
   "outputs": [],
   "source": [
    "DELIMITER //\n",
    "DROP PROCEDURE IF EXISTS UPDATE_LEADERS_SCORE //\n",
    "\n",
    "CREATE PROCEDURE UPDATE_LEADERS_SCORE(IN in_School_ID INTEGER, IN in_Leader_Score INTEGER)\n",
    "BEGIN\n",
    "    UPDATE chicago_public_schools\n",
    "    SET Leaders_Score = in_Leader_Score\n",
    "    WHERE School_ID = in_School_ID;\n",
    "    \n",
    "    IF in_Leader_Score > 0 AND in_Leader_Score < 20 THEN\n",
    "        UPDATE chicago_public_schools\n",
    "        SET Leaders_Icon = 'Very weak'\n",
    "        WHERE School_ID = in_School_ID;\n",
    "    ELSEIF in_Leader_Score < 40 THEN\n",
    "        UPDATE chicago_public_schools\n",
    "        SET Leaders_Icon = 'Weak'\n",
    "        WHERE School_ID = in_School_ID;\n",
    "    ELSEIF in_Leader_Score < 60 THEN\n",
    "        UPDATE chicago_public_schools\n",
    "        SET Leaders_Icon = 'Average'\n",
    "        WHERE School_ID = in_School_ID;\n",
    "    ELSEIF in_Leader_Score < 80 THEN\n",
    "        UPDATE chicago_public_schools\n",
    "        SET Leaders_Icon = 'Strong'\n",
    "        WHERE School_ID = in_School_ID;\n",
    "    ELSEIF in_Leader_Score < 100 THEN\n",
    "        UPDATE chicago_public_schools\n",
    "        SET Leaders_Icon = 'Very strong'\n",
    "        WHERE School_ID = in_School_ID;\n",
    "    END IF;\n",
    "END //\n",
    "\n",
    "DELIMITER ;\n",
    "\n",
    "SELECT School_ID, Leaders_Score, Leaders_Icon\n",
    "FROM chicago_public_schools\n",
    "WHERE School_ID = 610038;\n",
    "\n",
    "CALL UPDATE_LEADERS_SCORE(610038, 50);\n",
    "\n",
    "SELECT School_ID, Leaders_Score, Leaders_Icon\n",
    "FROM chicago_public_schools\n",
    "WHERE School_ID = 610038;"
   ]
  },
  {
   "cell_type": "markdown",
   "metadata": {},
   "source": [
    "Exercise 4: Using Transactions"
   ]
  },
  {
   "cell_type": "markdown",
   "metadata": {},
   "source": [
    "Update your stored procedure definition. Add a generic ELSE clause to the IF statement that rolls back the current work if the score did not fit any of the preceding categories."
   ]
  },
  {
   "cell_type": "code",
   "execution_count": null,
   "metadata": {
    "vscode": {
     "languageId": "sql"
    }
   },
   "outputs": [],
   "source": [
    "DELIMITER //\n",
    "DROP PROCEDURE IF EXISTS UPDATE_LEADERS_SCORE //\n",
    "\n",
    "CREATE PROCEDURE UPDATE_LEADERS_SCORE(IN in_School_ID INTEGER, IN in_Leader_Score INTEGER)\n",
    "BEGIN\n",
    "    UPDATE chicago_public_schools\n",
    "    SET Leaders_Score = in_Leader_Score\n",
    "    WHERE School_ID = in_School_ID;\n",
    "    \n",
    "    IF in_Leader_Score > 0 AND in_Leader_Score < 20 THEN\n",
    "        UPDATE chicago_public_schools\n",
    "        SET Leaders_Icon = 'Very weak'\n",
    "        WHERE School_ID = in_School_ID;\n",
    "    ELSEIF in_Leader_Score < 40 THEN\n",
    "        UPDATE chicago_public_schools\n",
    "        SET Leaders_Icon = 'Weak'\n",
    "        WHERE School_ID = in_School_ID;\n",
    "    ELSEIF in_Leader_Score < 60 THEN\n",
    "        UPDATE chicago_public_schools\n",
    "        SET Leaders_Icon = 'Average'\n",
    "        WHERE School_ID = in_School_ID;\n",
    "    ELSEIF in_Leader_Score < 80 THEN\n",
    "        UPDATE chicago_public_schools\n",
    "        SET Leaders_Icon = 'Strong'\n",
    "        WHERE School_ID = in_School_ID;\n",
    "    ELSEIF in_Leader_Score < 100 THEN\n",
    "        UPDATE chicago_public_schools\n",
    "        SET Leaders_Icon = 'Very strong'\n",
    "        WHERE School_ID = in_School_ID;\n",
    "    ELSE\n",
    "    \tROLLBACK WORK;\n",
    "    END IF;\n",
    "    COMMIT WORK;\n",
    "END //\n",
    "\n",
    "DELIMITER ;\n",
    "\n",
    "SELECT School_ID, Leaders_Score, Leaders_Icon\n",
    "FROM chicago_public_schools\n",
    "WHERE School_ID = 610038;\n",
    "\n",
    "CALL UPDATE_LEADERS_SCORE(610038, 38);\n",
    "\n",
    "SELECT School_ID, Leaders_Score, Leaders_Icon\n",
    "FROM chicago_public_schools\n",
    "WHERE School_ID = 610038;"
   ]
  },
  {
   "cell_type": "code",
   "execution_count": null,
   "metadata": {
    "vscode": {
     "languageId": "sql"
    }
   },
   "outputs": [],
   "source": []
  }
 ],
 "metadata": {
  "kernelspec": {
   "display_name": "base",
   "language": "python",
   "name": "python3"
  },
  "language_info": {
   "codemirror_mode": {
    "name": "ipython",
    "version": 3
   },
   "file_extension": ".py",
   "mimetype": "text/x-python",
   "name": "python",
   "nbconvert_exporter": "python",
   "pygments_lexer": "ipython3",
   "version": "3.9.12"
  }
 },
 "nbformat": 4,
 "nbformat_minor": 2
}
